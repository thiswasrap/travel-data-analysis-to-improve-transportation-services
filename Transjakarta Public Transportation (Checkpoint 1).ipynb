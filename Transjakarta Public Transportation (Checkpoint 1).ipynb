{
 "cells": [
  {
   "cell_type": "markdown",
   "id": "b07481c8-3489-4bdf-88b3-59b32a98d2df",
   "metadata": {},
   "source": [
    "## Transjakarta: Travel Data Analysis to Improve Transportation Services"
   ]
  },
  {
   "cell_type": "markdown",
   "id": "1fcf00f2-1f05-490a-a667-c2ac3b667aa9",
   "metadata": {},
   "source": [
    "### Description and deliverables"
   ]
  },
  {
   "cell_type": "markdown",
   "id": "22fd4068-4fb7-4e9e-a871-0f51523366b4",
   "metadata": {},
   "source": [
    "This project is an opportunity to analyze a dataset and predictive models that can provide insights to the Human Resources (HR) department. \n",
    "\n",
    "Upon completion, this will have two artifacts that would be able to present to future employers. One is a brief one-page summary of this project that would present to external stakeholders as the data professional in Transjakarta. The other is a complete code notebook provided here. Please consider the prior coursework and select one way to achieve this given project question. Either use a regression model or machine learning model to predict whether or not an employee will leave the company.\n",
    "\n",
    "In the deliverables, this will include the model evaluation (and interpretation if applicable). a data visualization of the choice that is directly related to the question you adk, ethical considerations, and the resources you used to troubleshoot and find answers or solutions.\n",
    "\n",
    "\n"
   ]
  },
  {
   "cell_type": "markdown",
   "id": "7a85e4b4-022b-4070-8377-ead5410a07c7",
   "metadata": {},
   "source": [
    "## PACE Stages"
   ]
  },
  {
   "cell_type": "markdown",
   "id": "d2c438bd-a0bb-4b2d-bb40-1cd16c8f47ef",
   "metadata": {},
   "source": [
    "<img src=\"pace.png\" alt=\"My Image\" width=\"600\" height=\"500\">\n"
   ]
  },
  {
   "cell_type": "markdown",
   "id": "3e8e321c-25ae-417f-ad47-378a20e09460",
   "metadata": {},
   "source": [
    "### PACE: Plan"
   ]
  },
  {
   "cell_type": "markdown",
   "id": "e81e9d03-ca94-4c0f-afcc-d2f5ea546f1e",
   "metadata": {},
   "source": [
    "Consider the question in PACE Strategy Document to reflect on the Plan stage.\n",
    "\n",
    "In this stage, consider the following:\n",
    "\n",
    "### <span style=\"font-size: 18px;\">Understand the business scenario and problem</span>\n",
    "\n",
    "The transportation management team at Transjakarta is seeking to enhance operational efficiency and improve passenger satisfaction levels. They have collected extensive data related to passenger journeys, including tap-in and tap-out details, demographic information, and transaction records, but are uncertain how to leverage this data effectively. As a data analytics professional, they turn to you for insights and recommendations. They pose the critical question: what factors influence passenger behavior, and how can we optimize our services accordingly?\n",
    "\n",
    "The goals in this project are to analyze the transportation data collected by the management team and build predictive models to address key business questions. For instance, by predicting passenger surges, the company can adjust its resources and schedules to better accommodate demand. Additionally, understanding customer segmentation will help tailor marketing strategies and improve service offerings. By analyzing waiting times and route efficiencies, the company can identify bottlenecks and enhance the overall travel experience. Given the importance of retaining customers in a competitive market, using data-driven insights to optimize operations will be invaluable for improving both efficiency and passenger satisfaction."
   ]
  },
  {
   "cell_type": "markdown",
   "id": "7933e6c0-2308-4503-a184-d9f3326f33e4",
   "metadata": {},
   "source": [
    "### <span style=\"font-size: 18px;\">Reflect on these question as complete the plan stage.</span>\n",
    "\n",
    "- Who are the stakeholders for this project?\n",
    "- What the initial observations when explore the data?\n",
    "- Any ethical considerations in this stage?"
   ]
  },
  {
   "cell_type": "markdown",
   "id": "bfe9411b-1702-471f-9610-c1d9b5473878",
   "metadata": {},
   "source": [
    "### Step 1. Imports"
   ]
  },
  {
   "cell_type": "markdown",
   "id": "35eb5b83-f2a9-4a56-90ea-a7e6d83f8541",
   "metadata": {},
   "source": [
    "- Import packages\n",
    "- Load dataset"
   ]
  },
  {
   "cell_type": "markdown",
   "id": "a6157e74-3456-4a30-9f0c-9d7e2f6d8273",
   "metadata": {},
   "source": [
    "### <span style=\"font-size: 18px;\">Import packages</span>\n"
   ]
  },
  {
   "cell_type": "code",
   "execution_count": 7,
   "id": "37ee5128-416a-496f-b1f3-87a685e826a5",
   "metadata": {},
   "outputs": [],
   "source": [
    "# Import packages\n",
    "\n",
    "# For data manipulation\n",
    "import numpy as np\n",
    "import pandas as pd\n",
    "\n",
    "# For data visualization\n",
    "%matplotlib inline\n",
    "import matplotlib.pyplot as plt\n",
    "import seaborn as sns\n",
    "\n",
    "# For displaying all of the columns in dataframes\n",
    "pd.set_option('display.max_columns', None)\n",
    "\n",
    "# For data modeling\n",
    "from xgboost import XGBClassifier\n",
    "from xgboost import XGBRegressor\n",
    "from xgboost import plot_importance\n",
    "\n",
    "from sklearn.linear_model import LogisticRegression\n",
    "from sklearn.tree import DecisionTreeClassifier\n",
    "from sklearn.ensemble import RandomForestClassifier\n",
    "\n",
    "# For metrics and helpful functions\n",
    "from sklearn.model_selection import GridSearchCV, train_test_split\n",
    "from sklearn.metrics import accuracy_score, precision_score, recall_score,\\\n",
    "f1_score, confusion_matrix, ConfusionMatrixDisplay, classification_report\n",
    "from sklearn.metrics import roc_auc_score, roc_curve\n",
    "from sklearn.tree import plot_tree\n",
    "\n",
    "# For saving models\n",
    "import pickle"
   ]
  },
  {
   "cell_type": "markdown",
   "id": "80c8e280-2290-4af3-a5fb-ec816203a1f2",
   "metadata": {},
   "source": [
    "### <span style=\"font-size: 18px;\">Load dataset</span>\n"
   ]
  },
  {
   "cell_type": "code",
   "execution_count": 9,
   "id": "f87fa39c-98cc-4d5b-a24a-5a162633af70",
   "metadata": {},
   "outputs": [
    {
     "data": {
      "text/html": [
       "<div>\n",
       "<style scoped>\n",
       "    .dataframe tbody tr th:only-of-type {\n",
       "        vertical-align: middle;\n",
       "    }\n",
       "\n",
       "    .dataframe tbody tr th {\n",
       "        vertical-align: top;\n",
       "    }\n",
       "\n",
       "    .dataframe thead th {\n",
       "        text-align: right;\n",
       "    }\n",
       "</style>\n",
       "<table border=\"1\" class=\"dataframe\">\n",
       "  <thead>\n",
       "    <tr style=\"text-align: right;\">\n",
       "      <th></th>\n",
       "      <th>transID</th>\n",
       "      <th>payCardID</th>\n",
       "      <th>payCardBank</th>\n",
       "      <th>payCardName</th>\n",
       "      <th>payCardSex</th>\n",
       "      <th>payCardBirthDate</th>\n",
       "      <th>corridorID</th>\n",
       "      <th>corridorName</th>\n",
       "      <th>direction</th>\n",
       "      <th>tapInStops</th>\n",
       "      <th>tapInStopsName</th>\n",
       "      <th>tapInStopsLat</th>\n",
       "      <th>tapInStopsLon</th>\n",
       "      <th>stopStartSeq</th>\n",
       "      <th>tapInTime</th>\n",
       "      <th>tapOutStops</th>\n",
       "      <th>tapOutStopsName</th>\n",
       "      <th>tapOutStopsLat</th>\n",
       "      <th>tapOutStopsLon</th>\n",
       "      <th>stopEndSeq</th>\n",
       "      <th>tapOutTime</th>\n",
       "      <th>payAmount</th>\n",
       "    </tr>\n",
       "  </thead>\n",
       "  <tbody>\n",
       "    <tr>\n",
       "      <th>0</th>\n",
       "      <td>EIIW227B8L34VB</td>\n",
       "      <td>180062659848800</td>\n",
       "      <td>emoney</td>\n",
       "      <td>Bajragin Usada</td>\n",
       "      <td>M</td>\n",
       "      <td>2008</td>\n",
       "      <td>5</td>\n",
       "      <td>Matraman Baru - Ancol</td>\n",
       "      <td>1.0</td>\n",
       "      <td>P00142</td>\n",
       "      <td>Pal Putih</td>\n",
       "      <td>-6.184631</td>\n",
       "      <td>106.84402</td>\n",
       "      <td>7</td>\n",
       "      <td>2023-04-03 05:21:44</td>\n",
       "      <td>P00253</td>\n",
       "      <td>Tegalan</td>\n",
       "      <td>-6.203101</td>\n",
       "      <td>106.85715</td>\n",
       "      <td>12.0</td>\n",
       "      <td>2023-04-03 06:00:53</td>\n",
       "      <td>3500.0</td>\n",
       "    </tr>\n",
       "    <tr>\n",
       "      <th>1</th>\n",
       "      <td>LGXO740D2N47GZ</td>\n",
       "      <td>4885331907664776</td>\n",
       "      <td>dki</td>\n",
       "      <td>Gandi Widodo</td>\n",
       "      <td>F</td>\n",
       "      <td>1997</td>\n",
       "      <td>6C</td>\n",
       "      <td>Stasiun Tebet - Karet via Patra Kuningan</td>\n",
       "      <td>0.0</td>\n",
       "      <td>B01963P</td>\n",
       "      <td>Kemenkes 2</td>\n",
       "      <td>-6.228700</td>\n",
       "      <td>106.83302</td>\n",
       "      <td>13</td>\n",
       "      <td>2023-04-03 05:42:44</td>\n",
       "      <td>B03307P</td>\n",
       "      <td>Sampoerna Strategic</td>\n",
       "      <td>-6.217152</td>\n",
       "      <td>106.81892</td>\n",
       "      <td>21.0</td>\n",
       "      <td>2023-04-03 06:40:01</td>\n",
       "      <td>3500.0</td>\n",
       "    </tr>\n",
       "    <tr>\n",
       "      <th>2</th>\n",
       "      <td>DJWR385V2U57TO</td>\n",
       "      <td>4996225095064169</td>\n",
       "      <td>dki</td>\n",
       "      <td>Emong Wastuti</td>\n",
       "      <td>F</td>\n",
       "      <td>1992</td>\n",
       "      <td>R1A</td>\n",
       "      <td>Pantai Maju - Kota</td>\n",
       "      <td>0.0</td>\n",
       "      <td>B00499P</td>\n",
       "      <td>Gg. Kunir II</td>\n",
       "      <td>-6.133132</td>\n",
       "      <td>106.81435</td>\n",
       "      <td>38</td>\n",
       "      <td>2023-04-03 05:59:06</td>\n",
       "      <td>B04962P</td>\n",
       "      <td>Simpang Kunir Kemukus</td>\n",
       "      <td>-6.133731</td>\n",
       "      <td>106.81475</td>\n",
       "      <td>39.0</td>\n",
       "      <td>2023-04-03 06:50:55</td>\n",
       "      <td>3500.0</td>\n",
       "    </tr>\n",
       "    <tr>\n",
       "      <th>3</th>\n",
       "      <td>JTUZ800U7C86EH</td>\n",
       "      <td>639099174703</td>\n",
       "      <td>flazz</td>\n",
       "      <td>Surya Wacana</td>\n",
       "      <td>F</td>\n",
       "      <td>1978</td>\n",
       "      <td>11D</td>\n",
       "      <td>Pulo Gebang - Pulo Gadung 2 via PIK</td>\n",
       "      <td>0.0</td>\n",
       "      <td>B05587P</td>\n",
       "      <td>Taman Elok 1</td>\n",
       "      <td>-6.195743</td>\n",
       "      <td>106.93526</td>\n",
       "      <td>23</td>\n",
       "      <td>2023-04-03 05:44:51</td>\n",
       "      <td>B03090P</td>\n",
       "      <td>Raya Penggilingan</td>\n",
       "      <td>-6.183068</td>\n",
       "      <td>106.93194</td>\n",
       "      <td>29.0</td>\n",
       "      <td>2023-04-03 06:28:16</td>\n",
       "      <td>3500.0</td>\n",
       "    </tr>\n",
       "    <tr>\n",
       "      <th>4</th>\n",
       "      <td>VMLO535V7F95NJ</td>\n",
       "      <td>570928206772</td>\n",
       "      <td>flazz</td>\n",
       "      <td>Embuh Mardhiyah</td>\n",
       "      <td>M</td>\n",
       "      <td>1982</td>\n",
       "      <td>12</td>\n",
       "      <td>Tanjung Priok - Pluit</td>\n",
       "      <td>0.0</td>\n",
       "      <td>P00239</td>\n",
       "      <td>Sunter Boulevard Barat</td>\n",
       "      <td>-6.149650</td>\n",
       "      <td>106.88900</td>\n",
       "      <td>5</td>\n",
       "      <td>2023-04-03 06:17:35</td>\n",
       "      <td>P00098</td>\n",
       "      <td>Kali Besar Barat</td>\n",
       "      <td>-6.135355</td>\n",
       "      <td>106.81143</td>\n",
       "      <td>15.0</td>\n",
       "      <td>2023-04-03 06:57:03</td>\n",
       "      <td>3500.0</td>\n",
       "    </tr>\n",
       "  </tbody>\n",
       "</table>\n",
       "</div>"
      ],
      "text/plain": [
       "          transID         payCardID payCardBank      payCardName payCardSex  \\\n",
       "0  EIIW227B8L34VB   180062659848800      emoney   Bajragin Usada          M   \n",
       "1  LGXO740D2N47GZ  4885331907664776         dki     Gandi Widodo          F   \n",
       "2  DJWR385V2U57TO  4996225095064169         dki    Emong Wastuti          F   \n",
       "3  JTUZ800U7C86EH      639099174703       flazz     Surya Wacana          F   \n",
       "4  VMLO535V7F95NJ      570928206772       flazz  Embuh Mardhiyah          M   \n",
       "\n",
       "   payCardBirthDate corridorID                              corridorName  \\\n",
       "0              2008          5                     Matraman Baru - Ancol   \n",
       "1              1997         6C  Stasiun Tebet - Karet via Patra Kuningan   \n",
       "2              1992        R1A                        Pantai Maju - Kota   \n",
       "3              1978        11D       Pulo Gebang - Pulo Gadung 2 via PIK   \n",
       "4              1982         12                     Tanjung Priok - Pluit   \n",
       "\n",
       "   direction tapInStops          tapInStopsName  tapInStopsLat  tapInStopsLon  \\\n",
       "0        1.0     P00142               Pal Putih      -6.184631      106.84402   \n",
       "1        0.0    B01963P              Kemenkes 2      -6.228700      106.83302   \n",
       "2        0.0    B00499P            Gg. Kunir II      -6.133132      106.81435   \n",
       "3        0.0    B05587P            Taman Elok 1      -6.195743      106.93526   \n",
       "4        0.0     P00239  Sunter Boulevard Barat      -6.149650      106.88900   \n",
       "\n",
       "   stopStartSeq            tapInTime tapOutStops        tapOutStopsName  \\\n",
       "0             7  2023-04-03 05:21:44      P00253                Tegalan   \n",
       "1            13  2023-04-03 05:42:44     B03307P    Sampoerna Strategic   \n",
       "2            38  2023-04-03 05:59:06     B04962P  Simpang Kunir Kemukus   \n",
       "3            23  2023-04-03 05:44:51     B03090P      Raya Penggilingan   \n",
       "4             5  2023-04-03 06:17:35      P00098       Kali Besar Barat   \n",
       "\n",
       "   tapOutStopsLat  tapOutStopsLon  stopEndSeq           tapOutTime  payAmount  \n",
       "0       -6.203101       106.85715        12.0  2023-04-03 06:00:53     3500.0  \n",
       "1       -6.217152       106.81892        21.0  2023-04-03 06:40:01     3500.0  \n",
       "2       -6.133731       106.81475        39.0  2023-04-03 06:50:55     3500.0  \n",
       "3       -6.183068       106.93194        29.0  2023-04-03 06:28:16     3500.0  \n",
       "4       -6.135355       106.81143        15.0  2023-04-03 06:57:03     3500.0  "
      ]
     },
     "execution_count": 9,
     "metadata": {},
     "output_type": "execute_result"
    }
   ],
   "source": [
    "# Load dataset into dataframe\n",
    "df0 = pd.read_csv('transjakarta.csv')\n",
    "\n",
    "# Display first few rows of the dataframe\n",
    "df0.head()"
   ]
  },
  {
   "cell_type": "code",
   "execution_count": 10,
   "id": "326a18d9-88bc-4f83-9707-ad5258d6368a",
   "metadata": {},
   "outputs": [
    {
     "name": "stdout",
     "output_type": "stream",
     "text": [
      "<class 'pandas.core.frame.DataFrame'>\n",
      "RangeIndex: 37900 entries, 0 to 37899\n",
      "Data columns (total 22 columns):\n",
      " #   Column            Non-Null Count  Dtype  \n",
      "---  ------            --------------  -----  \n",
      " 0   transID           37900 non-null  object \n",
      " 1   payCardID         37900 non-null  int64  \n",
      " 2   payCardBank       37900 non-null  object \n",
      " 3   payCardName       37900 non-null  object \n",
      " 4   payCardSex        37900 non-null  object \n",
      " 5   payCardBirthDate  37900 non-null  int64  \n",
      " 6   corridorID        36643 non-null  object \n",
      " 7   corridorName      35970 non-null  object \n",
      " 8   direction         37900 non-null  float64\n",
      " 9   tapInStops        36687 non-null  object \n",
      " 10  tapInStopsName    37900 non-null  object \n",
      " 11  tapInStopsLat     37900 non-null  float64\n",
      " 12  tapInStopsLon     37900 non-null  float64\n",
      " 13  stopStartSeq      37900 non-null  int64  \n",
      " 14  tapInTime         37900 non-null  object \n",
      " 15  tapOutStops       35611 non-null  object \n",
      " 16  tapOutStopsName   36556 non-null  object \n",
      " 17  tapOutStopsLat    36556 non-null  float64\n",
      " 18  tapOutStopsLon    36556 non-null  float64\n",
      " 19  stopEndSeq        36556 non-null  float64\n",
      " 20  tapOutTime        36556 non-null  object \n",
      " 21  payAmount         36893 non-null  float64\n",
      "dtypes: float64(7), int64(3), object(12)\n",
      "memory usage: 6.4+ MB\n"
     ]
    }
   ],
   "source": [
    "df0.info()"
   ]
  },
  {
   "cell_type": "markdown",
   "id": "d20a2994-514c-4d07-8786-661d4563affd",
   "metadata": {},
   "source": [
    "### Step 2. Data Exploration (Initial EDA and data cleaning)\n",
    "- Understand the variables.\n",
    "- Clean the dataset(missing data, redudant data, outliers)"
   ]
  },
  {
   "cell_type": "markdown",
   "id": "95d6de54-3683-47c4-966f-99213508a9f3",
   "metadata": {},
   "source": [
    "### <span style=\"font-size: 18px;\">Gather basic information about the data</span>\n"
   ]
  },
  {
   "cell_type": "code",
   "execution_count": 13,
   "id": "3c88d345-9e31-4355-beb5-1a1e995d2c45",
   "metadata": {},
   "outputs": [
    {
     "name": "stdout",
     "output_type": "stream",
     "text": [
      "<class 'pandas.core.frame.DataFrame'>\n",
      "RangeIndex: 37900 entries, 0 to 37899\n",
      "Data columns (total 22 columns):\n",
      " #   Column            Non-Null Count  Dtype  \n",
      "---  ------            --------------  -----  \n",
      " 0   transID           37900 non-null  object \n",
      " 1   payCardID         37900 non-null  int64  \n",
      " 2   payCardBank       37900 non-null  object \n",
      " 3   payCardName       37900 non-null  object \n",
      " 4   payCardSex        37900 non-null  object \n",
      " 5   payCardBirthDate  37900 non-null  int64  \n",
      " 6   corridorID        36643 non-null  object \n",
      " 7   corridorName      35970 non-null  object \n",
      " 8   direction         37900 non-null  float64\n",
      " 9   tapInStops        36687 non-null  object \n",
      " 10  tapInStopsName    37900 non-null  object \n",
      " 11  tapInStopsLat     37900 non-null  float64\n",
      " 12  tapInStopsLon     37900 non-null  float64\n",
      " 13  stopStartSeq      37900 non-null  int64  \n",
      " 14  tapInTime         37900 non-null  object \n",
      " 15  tapOutStops       35611 non-null  object \n",
      " 16  tapOutStopsName   36556 non-null  object \n",
      " 17  tapOutStopsLat    36556 non-null  float64\n",
      " 18  tapOutStopsLon    36556 non-null  float64\n",
      " 19  stopEndSeq        36556 non-null  float64\n",
      " 20  tapOutTime        36556 non-null  object \n",
      " 21  payAmount         36893 non-null  float64\n",
      "dtypes: float64(7), int64(3), object(12)\n",
      "memory usage: 6.4+ MB\n"
     ]
    }
   ],
   "source": [
    "# Gather basic information about the data\n",
    "df0.info()"
   ]
  },
  {
   "cell_type": "markdown",
   "id": "dbeb47b6-60ce-4726-b180-adc1bc3d3efa",
   "metadata": {},
   "source": [
    "### <span style=\"font-size: 18px;\">Gather descriptive statistic about the data</span>\n"
   ]
  },
  {
   "cell_type": "code",
   "execution_count": 15,
   "id": "76327e65-c648-42e4-be07-231266f6870a",
   "metadata": {},
   "outputs": [
    {
     "data": {
      "text/html": [
       "<div>\n",
       "<style scoped>\n",
       "    .dataframe tbody tr th:only-of-type {\n",
       "        vertical-align: middle;\n",
       "    }\n",
       "\n",
       "    .dataframe tbody tr th {\n",
       "        vertical-align: top;\n",
       "    }\n",
       "\n",
       "    .dataframe thead th {\n",
       "        text-align: right;\n",
       "    }\n",
       "</style>\n",
       "<table border=\"1\" class=\"dataframe\">\n",
       "  <thead>\n",
       "    <tr style=\"text-align: right;\">\n",
       "      <th></th>\n",
       "      <th>payCardID</th>\n",
       "      <th>payCardBirthDate</th>\n",
       "      <th>direction</th>\n",
       "      <th>tapInStopsLat</th>\n",
       "      <th>tapInStopsLon</th>\n",
       "      <th>stopStartSeq</th>\n",
       "      <th>tapOutStopsLat</th>\n",
       "      <th>tapOutStopsLon</th>\n",
       "      <th>stopEndSeq</th>\n",
       "      <th>payAmount</th>\n",
       "    </tr>\n",
       "  </thead>\n",
       "  <tbody>\n",
       "    <tr>\n",
       "      <th>count</th>\n",
       "      <td>3.790000e+04</td>\n",
       "      <td>37900.000000</td>\n",
       "      <td>37900.000000</td>\n",
       "      <td>37900.000000</td>\n",
       "      <td>37900.000000</td>\n",
       "      <td>37900.000000</td>\n",
       "      <td>36556.000000</td>\n",
       "      <td>36556.000000</td>\n",
       "      <td>36556.000000</td>\n",
       "      <td>36893.000000</td>\n",
       "    </tr>\n",
       "    <tr>\n",
       "      <th>mean</th>\n",
       "      <td>4.250060e+17</td>\n",
       "      <td>1990.089314</td>\n",
       "      <td>0.500633</td>\n",
       "      <td>-6.214838</td>\n",
       "      <td>106.841554</td>\n",
       "      <td>13.572480</td>\n",
       "      <td>-6.214651</td>\n",
       "      <td>106.841233</td>\n",
       "      <td>21.219909</td>\n",
       "      <td>2699.712683</td>\n",
       "    </tr>\n",
       "    <tr>\n",
       "      <th>std</th>\n",
       "      <td>1.321699e+18</td>\n",
       "      <td>13.051482</td>\n",
       "      <td>0.500006</td>\n",
       "      <td>0.057911</td>\n",
       "      <td>0.060369</td>\n",
       "      <td>12.237623</td>\n",
       "      <td>0.059022</td>\n",
       "      <td>0.060999</td>\n",
       "      <td>13.800689</td>\n",
       "      <td>4212.225592</td>\n",
       "    </tr>\n",
       "    <tr>\n",
       "      <th>min</th>\n",
       "      <td>6.040368e+10</td>\n",
       "      <td>1946.000000</td>\n",
       "      <td>0.000000</td>\n",
       "      <td>-6.394973</td>\n",
       "      <td>106.614730</td>\n",
       "      <td>0.000000</td>\n",
       "      <td>-6.394973</td>\n",
       "      <td>106.614730</td>\n",
       "      <td>1.000000</td>\n",
       "      <td>0.000000</td>\n",
       "    </tr>\n",
       "    <tr>\n",
       "      <th>25%</th>\n",
       "      <td>1.800442e+14</td>\n",
       "      <td>1982.000000</td>\n",
       "      <td>0.000000</td>\n",
       "      <td>-6.245863</td>\n",
       "      <td>106.803470</td>\n",
       "      <td>4.000000</td>\n",
       "      <td>-6.247225</td>\n",
       "      <td>106.801750</td>\n",
       "      <td>11.000000</td>\n",
       "      <td>0.000000</td>\n",
       "    </tr>\n",
       "    <tr>\n",
       "      <th>50%</th>\n",
       "      <td>3.507947e+15</td>\n",
       "      <td>1990.000000</td>\n",
       "      <td>1.000000</td>\n",
       "      <td>-6.214587</td>\n",
       "      <td>106.834830</td>\n",
       "      <td>10.000000</td>\n",
       "      <td>-6.214718</td>\n",
       "      <td>106.834580</td>\n",
       "      <td>18.000000</td>\n",
       "      <td>3500.000000</td>\n",
       "    </tr>\n",
       "    <tr>\n",
       "      <th>75%</th>\n",
       "      <td>4.699023e+15</td>\n",
       "      <td>2001.000000</td>\n",
       "      <td>1.000000</td>\n",
       "      <td>-6.175528</td>\n",
       "      <td>106.882270</td>\n",
       "      <td>19.000000</td>\n",
       "      <td>-6.174736</td>\n",
       "      <td>106.883030</td>\n",
       "      <td>29.000000</td>\n",
       "      <td>3500.000000</td>\n",
       "    </tr>\n",
       "    <tr>\n",
       "      <th>max</th>\n",
       "      <td>4.997694e+18</td>\n",
       "      <td>2012.000000</td>\n",
       "      <td>1.000000</td>\n",
       "      <td>-6.089429</td>\n",
       "      <td>107.023950</td>\n",
       "      <td>68.000000</td>\n",
       "      <td>-6.091746</td>\n",
       "      <td>107.023660</td>\n",
       "      <td>77.000000</td>\n",
       "      <td>20000.000000</td>\n",
       "    </tr>\n",
       "  </tbody>\n",
       "</table>\n",
       "</div>"
      ],
      "text/plain": [
       "          payCardID  payCardBirthDate     direction  tapInStopsLat  \\\n",
       "count  3.790000e+04      37900.000000  37900.000000   37900.000000   \n",
       "mean   4.250060e+17       1990.089314      0.500633      -6.214838   \n",
       "std    1.321699e+18         13.051482      0.500006       0.057911   \n",
       "min    6.040368e+10       1946.000000      0.000000      -6.394973   \n",
       "25%    1.800442e+14       1982.000000      0.000000      -6.245863   \n",
       "50%    3.507947e+15       1990.000000      1.000000      -6.214587   \n",
       "75%    4.699023e+15       2001.000000      1.000000      -6.175528   \n",
       "max    4.997694e+18       2012.000000      1.000000      -6.089429   \n",
       "\n",
       "       tapInStopsLon  stopStartSeq  tapOutStopsLat  tapOutStopsLon  \\\n",
       "count   37900.000000  37900.000000    36556.000000    36556.000000   \n",
       "mean      106.841554     13.572480       -6.214651      106.841233   \n",
       "std         0.060369     12.237623        0.059022        0.060999   \n",
       "min       106.614730      0.000000       -6.394973      106.614730   \n",
       "25%       106.803470      4.000000       -6.247225      106.801750   \n",
       "50%       106.834830     10.000000       -6.214718      106.834580   \n",
       "75%       106.882270     19.000000       -6.174736      106.883030   \n",
       "max       107.023950     68.000000       -6.091746      107.023660   \n",
       "\n",
       "         stopEndSeq     payAmount  \n",
       "count  36556.000000  36893.000000  \n",
       "mean      21.219909   2699.712683  \n",
       "std       13.800689   4212.225592  \n",
       "min        1.000000      0.000000  \n",
       "25%       11.000000      0.000000  \n",
       "50%       18.000000   3500.000000  \n",
       "75%       29.000000   3500.000000  \n",
       "max       77.000000  20000.000000  "
      ]
     },
     "execution_count": 15,
     "metadata": {},
     "output_type": "execute_result"
    }
   ],
   "source": [
    "# Gather descriptive statistic about the data\n",
    "df0.describe()"
   ]
  },
  {
   "cell_type": "markdown",
   "id": "1dd9fb56-071c-45b7-8c99-5bceb0e65c60",
   "metadata": {},
   "source": [
    "### <span style=\"font-size: 18px;\">Check missing values</span>\n"
   ]
  },
  {
   "cell_type": "code",
   "execution_count": 17,
   "id": "1cb04074-a9d3-4b8a-aa50-3aedadc5f828",
   "metadata": {},
   "outputs": [
    {
     "data": {
      "text/plain": [
       "transID                0\n",
       "payCardID              0\n",
       "payCardBank            0\n",
       "payCardName            0\n",
       "payCardSex             0\n",
       "payCardBirthDate       0\n",
       "corridorID          1257\n",
       "corridorName        1930\n",
       "direction              0\n",
       "tapInStops          1213\n",
       "tapInStopsName         0\n",
       "tapInStopsLat          0\n",
       "tapInStopsLon          0\n",
       "stopStartSeq           0\n",
       "tapInTime              0\n",
       "tapOutStops         2289\n",
       "tapOutStopsName     1344\n",
       "tapOutStopsLat      1344\n",
       "tapOutStopsLon      1344\n",
       "stopEndSeq          1344\n",
       "tapOutTime          1344\n",
       "payAmount           1007\n",
       "dtype: int64"
      ]
     },
     "execution_count": 17,
     "metadata": {},
     "output_type": "execute_result"
    }
   ],
   "source": [
    "# Check for missing values\n",
    "df0.isna().sum()"
   ]
  },
  {
   "cell_type": "markdown",
   "id": "1e2e131e-639a-4448-b659-a666433d5d56",
   "metadata": {},
   "source": [
    "There are approximately 5% missing data from entire data. Theres no significant changes if removing the NA."
   ]
  },
  {
   "cell_type": "code",
   "execution_count": 25,
   "id": "1f494cff-b716-4af2-92ac-52fc941421e3",
   "metadata": {},
   "outputs": [],
   "source": [
    "df0 = df0.dropna()"
   ]
  },
  {
   "cell_type": "code",
   "execution_count": 27,
   "id": "3dcc4944-595b-4b56-8985-6d340223d0f3",
   "metadata": {},
   "outputs": [
    {
     "data": {
      "text/plain": [
       "transID             0\n",
       "payCardID           0\n",
       "payCardBank         0\n",
       "payCardName         0\n",
       "payCardSex          0\n",
       "payCardBirthDate    0\n",
       "corridorID          0\n",
       "corridorName        0\n",
       "direction           0\n",
       "tapInStops          0\n",
       "tapInStopsName      0\n",
       "tapInStopsLat       0\n",
       "tapInStopsLon       0\n",
       "stopStartSeq        0\n",
       "tapInTime           0\n",
       "tapOutStops         0\n",
       "tapOutStopsName     0\n",
       "tapOutStopsLat      0\n",
       "tapOutStopsLon      0\n",
       "stopEndSeq          0\n",
       "tapOutTime          0\n",
       "payAmount           0\n",
       "dtype: int64"
      ]
     },
     "execution_count": 27,
     "metadata": {},
     "output_type": "execute_result"
    }
   ],
   "source": [
    "df0.isna().sum()"
   ]
  },
  {
   "cell_type": "markdown",
   "id": "dafb0ea7-6221-44e4-800b-067895114d95",
   "metadata": {},
   "source": [
    "### <span style=\"font-size: 18px;\">Check duplicates</span>\n",
    "Check for any duplicated entries in the data."
   ]
  },
  {
   "cell_type": "code",
   "execution_count": 32,
   "id": "67e60c53-7718-44cb-8e72-e88cbf62ba34",
   "metadata": {},
   "outputs": [
    {
     "data": {
      "text/plain": [
       "0"
      ]
     },
     "execution_count": 32,
     "metadata": {},
     "output_type": "execute_result"
    }
   ],
   "source": [
    "# Check for duplicates\n",
    "df0.duplicated().sum()"
   ]
  },
  {
   "cell_type": "markdown",
   "id": "78459bea-eb45-4ab1-98db-5254d6df72cb",
   "metadata": {},
   "source": [
    "### <span style=\"font-size: 18px;\">Check outliers</span>\n",
    "Check for outliers in the data."
   ]
  },
  {
   "cell_type": "code",
   "execution_count": 42,
   "id": "5bd6572b-ef62-427a-b8bb-afdc6b35e7d8",
   "metadata": {},
   "outputs": [
    {
     "data": {
      "image/png": "[encoded data removed]",
      "text/plain": [
       "<Figure size 600x600 with 1 Axes>"
      ]
     },
     "metadata": {},
     "output_type": "display_data"
    }
   ],
   "source": [
    "# Create a boxplot to visualize distribution of `tapOutStops` and detect any outliers.\n",
    "plt.figure(figsize=(6,6))\n",
    "plt.title('Boxplot to detect outliers for tapOutStops', fontsize=12)\n",
    "plt.xticks(fontsize=12)\n",
    "plt.yticks(fontsize=12)\n",
    "sns.boxplot(x=df0['stopEndSeq'])\n",
    "plt.show()"
   ]
  },
  {
   "cell_type": "code",
   "execution_count": null,
   "id": "70b45b39-85ca-4f6e-b1e2-6a0df959018e",
   "metadata": {},
   "outputs": [],
   "source": []
  }
 ],
 "metadata": {
  "kernelspec": {
   "display_name": "Python 3 (ipykernel)",
   "language": "python",
   "name": "python3"
  },
  "language_info": {
   "codemirror_mode": {
    "name": "ipython",
    "version": 3
   },
   "file_extension": ".py",
   "mimetype": "text/x-python",
   "name": "python",
   "nbconvert_exporter": "python",
   "pygments_lexer": "ipython3",
   "version": "3.12.4"
  }
 },
 "nbformat": 4,
 "nbformat_minor": 5
}
